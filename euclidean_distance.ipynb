{
  "nbformat": 4,
  "nbformat_minor": 0,
  "metadata": {
    "colab": {
      "provenance": [],
      "authorship_tag": "ABX9TyNCcptjP9+iL6A9wOZ0QmEh"
    },
    "kernelspec": {
      "name": "python3",
      "display_name": "Python 3"
    },
    "language_info": {
      "name": "python"
    }
  },
  "cells": [
    {
      "cell_type": "code",
      "execution_count": 1,
      "metadata": {
        "id": "qNqD0fVGxAuO"
      },
      "outputs": [],
      "source": [
        "import math"
      ]
    },
    {
      "cell_type": "code",
      "source": [
        "def get_points():\n",
        "    \"\"\"\n",
        "    Takes points from the user and returns them as a list.\n",
        "    \"\"\"\n",
        "    points = []\n",
        "    n = int(input(\"How many points will you enter? \"))\n",
        "\n",
        "    for i in range(n):\n",
        "        x = float(input(f\"Enter the x coordinate for point {i+1}: \"))\n",
        "        y = float(input(f\"Enter the y coordinate for point {i+1}: \"))\n",
        "        points.append((x, y))\n",
        "\n",
        "    return points"
      ],
      "metadata": {
        "id": "zwaS0t4xxF_k"
      },
      "execution_count": 2,
      "outputs": []
    },
    {
      "cell_type": "code",
      "source": [
        "def euclidean_distance(point1, point2):\n",
        "    \"\"\"\n",
        "    Calculates the Euclidean distance between two points.\n",
        "    \"\"\"\n",
        "    return math.sqrt((point2[0] - point1[0])**2 + (point2[1] - point1[1])**2)"
      ],
      "metadata": {
        "id": "4_VHzdTexHqW"
      },
      "execution_count": 3,
      "outputs": []
    },
    {
      "cell_type": "code",
      "source": [
        "def calculate_distances(points):\n",
        "    \"\"\"\n",
        "    Calculates the Euclidean distances between pairs of points and returns them as a list.\n",
        "    \"\"\"\n",
        "    distances = []\n",
        "    for i in range(len(points)):\n",
        "        for j in range(i + 1, len(points)):\n",
        "            distance = euclidean_distance(points[i], points[j])\n",
        "            distances.append(distance)\n",
        "\n",
        "    return distances"
      ],
      "metadata": {
        "id": "sA8UtoHrxJD4"
      },
      "execution_count": 4,
      "outputs": []
    },
    {
      "cell_type": "code",
      "source": [
        "def find_min_distance(distances):\n",
        "    \"\"\"\n",
        "    Finds the minimum distance from the list of distances and returns it.\n",
        "    \"\"\"\n",
        "    if distances:\n",
        "        return min(distances)\n",
        "    else:\n",
        "        return None"
      ],
      "metadata": {
        "id": "me3e2TyIxMDr"
      },
      "execution_count": 5,
      "outputs": []
    },
    {
      "cell_type": "code",
      "source": [
        "def main():\n",
        "    \"\"\"\n",
        "    The main function of the program. Calls all functions sequentially and prints the results.\n",
        "    \"\"\"\n",
        "    points = get_points()\n",
        "    distances = calculate_distances(points)\n",
        "    min_distance = find_min_distance(distances)\n",
        "\n",
        "    print(f'Points: {points}')\n",
        "    print(f'All distances: {distances}')\n",
        "\n",
        "    if min_distance is not None:\n",
        "        print(f'Minimum distance: {min_distance}')\n",
        "    else:\n",
        "        print(\"There are not enough points to calculate distance.\")"
      ],
      "metadata": {
        "id": "WC46QFIfxNvP"
      },
      "execution_count": 6,
      "outputs": []
    },
    {
      "cell_type": "code",
      "source": [
        "if __name__ == \"__main__\":\n",
        "    main()"
      ],
      "metadata": {
        "colab": {
          "base_uri": "https://localhost:8080/"
        },
        "id": "BQ2B6L5kxPiS",
        "outputId": "40309dc8-b1b3-4064-dd4a-36ddf7e2695b"
      },
      "execution_count": 7,
      "outputs": [
        {
          "output_type": "stream",
          "name": "stdout",
          "text": [
            "How many points will you enter? 4\n",
            "Enter the x coordinate for point 1: 1\n",
            "Enter the y coordinate for point 1: 2\n",
            "Enter the x coordinate for point 2: 4\n",
            "Enter the y coordinate for point 2: 6\n",
            "Enter the x coordinate for point 3: 5\n",
            "Enter the y coordinate for point 3: 8\n",
            "Enter the x coordinate for point 4: 2\n",
            "Enter the y coordinate for point 4: 1\n",
            "Points: [(1.0, 2.0), (4.0, 6.0), (5.0, 8.0), (2.0, 1.0)]\n",
            "All distances: [5.0, 7.211102550927978, 1.4142135623730951, 2.23606797749979, 5.385164807134504, 7.615773105863909]\n",
            "Minimum distance: 1.4142135623730951\n"
          ]
        }
      ]
    }
  ]
}